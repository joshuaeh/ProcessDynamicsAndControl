{
 "cells": [
  {
   "cell_type": "markdown",
   "metadata": {},
   "source": [
    "# TCLab Help\n",
    "## Automatically open and close TCLab\n",
    "Opening and closing can cause problems if the file was not closed correctly. To do this safer, use a with statement\n",
    "## Use time.time() to execute loop at the beginning of every second\n",
    "time.time() returns the current time in seconds. The below code uses the difference in two time.time() instances to execute the code only when the difference is exactly an integer. Since the code within the loop should not take more than a second, the loop will execute once every second."
   ]
  },
  {
   "cell_type": "code",
   "execution_count": null,
   "metadata": {},
   "outputs": [],
   "source": [
    "import matplotlib.pyplot as plt\n",
    "import tclab\n",
    "import time\n",
    "\n",
    "n = 300  # Number of second time points (5 min)\n",
    "tm = np.linspace(0,n,n+1) # Time values\n",
    "\n",
    "# data\n",
    "with tclab.TCLab() as lab:\n",
    "    T1_list = [lab.T1]\n",
    "    lab.Q1(50)\n",
    "    t_meas = [0]  # Record actual time\n",
    "    t0 = time.time()\n",
    "    for i in range(n):\n",
    "        # wait\n",
    "        time.sleep(1-time.time()%1)\n",
    "        #measure and record\n",
    "        t_meas.append(time.time() - t0)\n",
    "        T1_list.append(lab.T1)\n",
    "\n",
    "# Plot results\n",
    "plt.figure(1)\n",
    "plt.plot(t_meas,T1_list,'r.',label='Measured')\n",
    "plt.ylabel('Temperature (degC)')\n",
    "plt.xlabel('Time (sec)')\n",
    "plt.legend()\n",
    "plt.show()\n"
   ]
  },
  {
   "cell_type": "markdown",
   "metadata": {},
   "source": [
    "## Use Error Handling, and run TCLab once\n",
    "It can become tedious to run the TCLab each time you debug. To help, we can use error handling so that once the TCLab successfully runs, we save the data for later.\n",
    "\n",
    "When Python encounters a problem, it \"throws\" an exception. You may recognize some of these: IndexError when a list or array does not have the index referenced, or SyntaxError for common syntax problems. With __try catch__ blocks, we can tell Python what we want it do do, and what to do if there is an exception\n",
    "\n",
    "Below, the __try__ block will tell it to read the file we saved our TCLab data in. If it does not exist (for example, if this is the first time running it) then an exception will be thrown and the code will stop executing in th try block and move to the __except__ block. There, we will run the TCLab and save it for later retreival. This way, if we have problems after the TCLab portion, we will not have to wait for it to simulate again\n",
    "## Read and save files with Pandas or numpy\n",
    "### Numpy\n",
    "To save data with numpy, we will use `numpy.savetxt`. The data should be formatted as an array first, then the syntax will be `numpy.savetxt([file path], [array], delimiter=\",\")` where `[array]` is the array of data being saved, and `[file path]` is the path to where you will save the data. The path will be saved in the same directory as the Python file if only a file name is included. For more details, visit [here](https://numpy.org/doc/stable/reference/generated/numpy.savetxt.html)\n",
    "\n",
    "To load data from a CSV into an array, use `numpy.loadtxt`. This has similar syntax: `numpy.savetxt([file path], delimiter=\",\")` with many more options available [here](https://numpy.org/doc/stable/reference/generated/numpy.loadtxt.html)"
   ]
  },
  {
   "cell_type": "code",
   "execution_count": null,
   "metadata": {},
   "outputs": [],
   "source": [
    "import matplotlib.pyplot as plt\n",
    "import tclab\n",
    "import time\n",
    "\n",
    "filename = \"TCLAb_data1.csv\"\n",
    "try:\n",
    "    data = np.loadtxt(filename, delimiter=\",\")\n",
    "    data = data.T  # transpose so that each row is all values of that type\n",
    "    T_meas, T1_list = data  # unpack 2d array into 2 arrays we would have had if we ran the TCLab\n",
    "    \n",
    "except: \n",
    "    # Gather Data\n",
    "    n = 300  # Number of second time points (5 min)\n",
    "    tm = np.linspace(0,n,n+1) # Time values\n",
    "\n",
    "    with tclab.TCLab() as lab:\n",
    "        T1_list = [lab.T1]\n",
    "        lab.Q1(50)\n",
    "        t_meas = [0]  # Record actual time\n",
    "        t0 = time.time()\n",
    "        for i in range(n):\n",
    "            time.sleep(1-time.time()%1)\n",
    "            t_meas.append(time.time() - t0)\n",
    "            T1_list.append(lab.T1)\n",
    "            \n",
    "    # save data\n",
    "    data = np.array([t_meas, t1_list]).T  # .T transposes so that the data is arranged by collumns\n",
    "    np.savetxt(filename, data, delimiter=\",\")\n",
    "\n",
    "# Plot results\n",
    "plt.figure(1)\n",
    "plt.plot(t_meas,T1_list,'r.',label='Measured')\n",
    "plt.ylabel('Temperature (degC)')\n",
    "plt.xlabel('Time (sec)')\n",
    "plt.legend()\n",
    "plt.show()"
   ]
  },
  {
   "cell_type": "markdown",
   "metadata": {},
   "source": [
    "## Only Run the TCLab if Cooled\n",
    "Running the TCLab while still hot from a previous experiement can cause issues within the simulation. To prevent this, use a while loop to automatically wait for the TCLab to cool to a proper temperature."
   ]
  },
  {
   "cell_type": "code",
   "execution_count": null,
   "metadata": {},
   "outputs": [],
   "source": [
    "import tclab\n",
    "import time\n",
    "\n",
    "with tclab.TCLab() as lab:\n",
    "    while lab.T1 > 30:  # wait for TCLab to be below 30 C before simulating\n",
    "        time.sleep(5)\n",
    "        print(f'TCLab is now {lab.T1} degrees C')\n",
    "        print('Waiting to cool...')\n",
    "    print(f'TCLab is now {lab_temp} degrees C')\n",
    "    print('Ready to Start!')\n",
    "    "
   ]
  },
  {
   "cell_type": "code",
   "execution_count": null,
   "metadata": {},
   "outputs": [],
   "source": [
    "()"
   ]
  }
 ],
 "metadata": {
  "kernelspec": {
   "display_name": "Python 3",
   "language": "python",
   "name": "python3"
  },
  "language_info": {
   "codemirror_mode": {
    "name": "ipython",
    "version": 3
   },
   "file_extension": ".py",
   "mimetype": "text/x-python",
   "name": "python",
   "nbconvert_exporter": "python",
   "pygments_lexer": "ipython3",
   "version": "3.8.3"
  }
 },
 "nbformat": 4,
 "nbformat_minor": 4
}
